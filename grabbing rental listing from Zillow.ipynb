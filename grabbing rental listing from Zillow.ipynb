{
 "cells": [
  {
   "cell_type": "code",
   "execution_count": 1,
   "metadata": {
    "collapsed": true,
    "pycharm": {
     "name": "#%%\n"
    }
   },
   "outputs": [],
   "source": [
    "from bs4 import BeautifulSoup\n",
    "import pandas as pd\n",
    "import requests"
   ]
  },
  {
   "cell_type": "markdown",
   "source": [
    "# Zillow listings web scraper\n",
    "\n",
    "The following code is able to scrap data from a zillow listing based on a city name and the number of zillow pages desired.\n",
    "\n",
    "To get access to Zillow web pages it is necessary to use headers in the URl. These headers bypass the normal web scraping blockers such as Captchas.\n"
   ],
   "metadata": {
    "collapsed": false,
    "pycharm": {
     "name": "#%% md\n"
    }
   }
  },
  {
   "cell_type": "code",
   "execution_count": 2,
   "outputs": [],
   "source": [
    "req_headers = {\n",
    "    'accept': 'text/html,application/xhtml+xml,application/xml;q=0.9,image/webp,image/apng,*/*;q=0.8',\n",
    "    'accept-encoding': 'gzip, deflate, br',\n",
    "    'accept-language': 'en-US,en;q=0.8',\n",
    "    'upgrade-insecure-requests': '1',\n",
    "    'user-agent': 'Mozilla/5.0 (Windows NT 10.0; Win64; x64) AppleWebKit/537.36 (KHTML, like Gecko) Chrome/61.0.3163.100 Safari/537.36'\n",
    "}"
   ],
   "metadata": {
    "collapsed": false,
    "pycharm": {
     "name": "#%%\n"
    }
   }
  },
  {
   "cell_type": "markdown",
   "source": [
    "The function below takes in the name of a city, the URL headers, and a conditional parameter for the number of Zillow pages that you want.\n",
    "\n",
    "The html for each page is append into a list that will then be processed in the next code section."
   ],
   "metadata": {
    "collapsed": false,
    "pycharm": {
     "name": "#%% md\n"
    }
   }
  },
  {
   "cell_type": "code",
   "execution_count": 3,
   "outputs": [],
   "source": [
    "\n",
    "def get_zillow_pages(city, req_headers, number_of_pages=1):\n",
    "    with requests.Session() as s:\n",
    "        response_content = []\n",
    "        for page in range(number_of_pages):\n",
    "            if page == 0:\n",
    "                response_content.append(s.get(f\"https://www.zillow.com/homes/for_sale/{city}/\", headers=req_headers))\n",
    "            response_content.append(s.get(f\"https://www.zillow.com/homes/for_sale/{city}/{page + 1}_p/\", headers=req_headers))\n",
    "\n",
    "        # parse into BeautifulSoup object\n",
    "        soups = []\n",
    "        for r in response_content:\n",
    "            soups.append(BeautifulSoup(r.content, 'html.parser'))\n",
    "        return soups\n",
    "\n",
    "soups = get_zillow_pages(\"flagstaff\", req_headers, number_of_pages=2)"
   ],
   "metadata": {
    "collapsed": false,
    "pycharm": {
     "name": "#%%\n"
    }
   }
  },
  {
   "cell_type": "markdown",
   "source": [
    "Now that the Zillow page HTML has been grabbed we can take some listing data from it. This data is limited to the listing address, price, beds, baths, square footing, home type, page link and when it was last updated. In some cases there is a bit of extra info such as the name of the broker.\n",
    "\n",
    "From here you can use the link to grab further data."
   ],
   "metadata": {
    "collapsed": false,
    "pycharm": {
     "name": "#%% md\n"
    }
   }
  },
  {
   "cell_type": "code",
   "execution_count": 4,
   "outputs": [
    {
     "name": "stderr",
     "output_type": "stream",
     "text": [
      "/tmp/ipykernel_4922/2167884315.py:77: FutureWarning: The default value of regex will change from True to False in a future version. In addition, single character regular expressions will *not* be treated as literal strings when regex=True.\n",
      "  df['price'] = df['price'].str.replace('$', '')\n"
     ]
    },
    {
     "data": {
      "text/plain": "                                            address      price  beds  baths  \\\n0      1 Indian Rural Route Rd, Flagstaff, AZ 86004    40000.0    10    NaN   \n1       2401 W Route 66 LOT 17, Flagstaff, AZ 86001   188500.0     3    2.0   \n2            8275 E Mercury Dr, Flagstaff, AZ 86004   550000.0     3    2.0   \n3   15 W Separation Canyon Trl, Flagstaff, AZ 86005   858000.0     3    3.0   \n4             1603 N Center St, Flagstaff, AZ 86004  1075000.0     8    4.0   \n5             1600 N Center St, Flagstaff, AZ 86004  1075000.0     8    4.0   \n6             2714 N Izabel St, Flagstaff, AZ 86004  1075000.0     8    4.0   \n7                   3580 Huron, Flagstaff, AZ 86005   575000.0     3    3.0   \n8                  69 Leupp Rd, Flagstaff, AZ 86004   293000.0     3    1.0   \n9      1 Indian Rural Route Rd, Flagstaff, AZ 86004    40000.0    10    NaN   \n10      2401 W Route 66 LOT 17, Flagstaff, AZ 86001   188500.0     3    2.0   \n11           8275 E Mercury Dr, Flagstaff, AZ 86004   550000.0     3    2.0   \n12  15 W Separation Canyon Trl, Flagstaff, AZ 86005   858000.0     3    3.0   \n13            1603 N Center St, Flagstaff, AZ 86004  1075000.0     8    4.0   \n14            1600 N Center St, Flagstaff, AZ 86004  1075000.0     8    4.0   \n15            2714 N Izabel St, Flagstaff, AZ 86004  1075000.0     8    4.0   \n16                  3580 Huron, Flagstaff, AZ 86005   575000.0     3    3.0   \n17                 69 Leupp Rd, Flagstaff, AZ 86004   293000.0     3    1.0   \n18        2428 W Rio Grande Ct, Flagstaff, AZ 86001   409000.0     3    2.0   \n19                5125 Wade Ln, Flagstaff, AZ 86004   849900.0     4    3.0   \n20           3528 W Electra Dr, Flagstaff, AZ 86001  1250000.0     5    4.0   \n21              69 Alpine Rnch, Flagstaff, AZ 86004    74700.0    10    NaN   \n22            1804 N Beaver St, Flagstaff, AZ 86001   862500.0     4    3.0   \n23    4005 Lake Mary Rd APT 17, Flagstaff, AZ 86005   384000.0     2    3.0   \n24                7400 Cody Rd, Flagstaff, AZ 86004   495000.0     4    2.0   \n25        1515 Castle Hills Dr, Flagstaff, AZ 86005  1200000.0     3    3.0   \n26       3128 E Mount Elden Dr, Flagstaff, AZ 86004   640000.0     3    2.0   \n\n      sqft                                          home type  \\\n0      NaN  MLS ID #190170, REALTY ONE GROUP, MOUNTAIN DESERT   \n1   1152.0             MLS ID #189872, RE/MAX FINE PROPERTIES   \n2   1752.0  MLS ID #190147, REALTY ONE GROUP, MOUNTAIN DESERT   \n3   1955.0             MLS ID #190290, RE/MAX FINE PROPERTIES   \n4   3200.0                                W AND PARTNERS, LLC   \n5   3200.0                                W AND PARTNERS, LLC   \n6   2900.0                                W AND PARTNERS, LLC   \n7   1583.0                                VILLAGE LAND SHOPPE   \n8   1120.0                    MLS ID #190038, CONGRESS REALTY   \n9      NaN  MLS ID #190170, REALTY ONE GROUP, MOUNTAIN DESERT   \n10  1152.0             MLS ID #189872, RE/MAX FINE PROPERTIES   \n11  1752.0  MLS ID #190147, REALTY ONE GROUP, MOUNTAIN DESERT   \n12  1955.0             MLS ID #190290, RE/MAX FINE PROPERTIES   \n13  3200.0                                W AND PARTNERS, LLC   \n14  3200.0                                W AND PARTNERS, LLC   \n15  2900.0                                W AND PARTNERS, LLC   \n16  1583.0                                VILLAGE LAND SHOPPE   \n17  1120.0                    MLS ID #190038, CONGRESS REALTY   \n18  1080.0  MLS ID #190143, REALTY ONE GROUP, MOUNTAIN DESERT   \n19  3439.0                FLAGSTAFF REAL ESTATE PROFESSIONALS   \n20  2926.0                                   REALTY ONE GROUP   \n21     NaN             MLS ID #188233, RE/MAX FINE PROPERTIES   \n22  3137.0     MLS ID #190157, REALTY EXECUTIVES OF FLAGSTAFF   \n23  1275.0             MLS ID #190257, A.Z. & ASSOCIATES, LLC   \n24     NaN  MLS ID #190231, REALTY ONE GROUP, MOUNTAIN DESERT   \n25  1799.0                             RE/MAX FINE PROPERTIES   \n26  1498.0                     REALTY EXECUTIVES OF FLAGSTAFF   \n\n                                   last update  \\\n0                             9 days on Zillow   \n1                            29 days on Zillow   \n2                   Price cut: $25,000 (Jun 8)   \n3                            Open: Sun. 12-3pm   \n4    2 days on ZillowListing provided by ARMLS   \n5    2 days on ZillowListing provided by ARMLS   \n6    2 days on ZillowListing provided by ARMLS   \n7    9 days on ZillowListing provided by ARMLS   \n8                   Price cut: $11,900 (Jun 1)   \n9                             9 days on Zillow   \n10                           29 days on Zillow   \n11                  Price cut: $25,000 (Jun 8)   \n12                           Open: Sun. 12-3pm   \n13   2 days on ZillowListing provided by ARMLS   \n14   2 days on ZillowListing provided by ARMLS   \n15   2 days on ZillowListing provided by ARMLS   \n16   9 days on ZillowListing provided by ARMLS   \n17                  Price cut: $11,900 (Jun 1)   \n18                           10 days on Zillow   \n19   2 days on ZillowListing provided by ARMLS   \n20    1 day on ZillowListing provided by ARMLS   \n21                    Price cut: $100 (Apr 10)   \n22                           10 days on Zillow   \n23                            3 days on Zillow   \n24                            5 days on Zillow   \n25   2 days on ZillowListing provided by ARMLS   \n26  11 days on ZillowListing provided by ARMLS   \n\n                                           extra info  \\\n0   MLS ID #190170, REALTY ONE GROUP, MOUNTAIN DESERT   \n1              MLS ID #189872, RE/MAX FINE PROPERTIES   \n2   MLS ID #190147, REALTY ONE GROUP, MOUNTAIN DESERT   \n3              MLS ID #190290, RE/MAX FINE PROPERTIES   \n4                                 W AND PARTNERS, LLC   \n5                                 W AND PARTNERS, LLC   \n6                                 W AND PARTNERS, LLC   \n7                                 VILLAGE LAND SHOPPE   \n8                     MLS ID #190038, CONGRESS REALTY   \n9   MLS ID #190170, REALTY ONE GROUP, MOUNTAIN DESERT   \n10             MLS ID #189872, RE/MAX FINE PROPERTIES   \n11  MLS ID #190147, REALTY ONE GROUP, MOUNTAIN DESERT   \n12             MLS ID #190290, RE/MAX FINE PROPERTIES   \n13                                W AND PARTNERS, LLC   \n14                                W AND PARTNERS, LLC   \n15                                W AND PARTNERS, LLC   \n16                                VILLAGE LAND SHOPPE   \n17                    MLS ID #190038, CONGRESS REALTY   \n18  MLS ID #190143, REALTY ONE GROUP, MOUNTAIN DESERT   \n19                FLAGSTAFF REAL ESTATE PROFESSIONALS   \n20                                   REALTY ONE GROUP   \n21             MLS ID #188233, RE/MAX FINE PROPERTIES   \n22     MLS ID #190157, REALTY EXECUTIVES OF FLAGSTAFF   \n23             MLS ID #190257, A.Z. & ASSOCIATES, LLC   \n24  MLS ID #190231, REALTY ONE GROUP, MOUNTAIN DESERT   \n25                             RE/MAX FINE PROPERTIES   \n26                     REALTY EXECUTIVES OF FLAGSTAFF   \n\n                                                 link  \n0   https://www.zillow.com/homedetails/1-Indian-Ru...  \n1   https://www.zillow.com/homedetails/2401-W-Rout...  \n2   https://www.zillow.com/homedetails/8275-E-Merc...  \n3   https://www.zillow.com/homedetails/15-W-Separa...  \n4   https://www.zillow.com/homedetails/1603-N-Cent...  \n5   https://www.zillow.com/homedetails/1600-N-Cent...  \n6   https://www.zillow.com/homedetails/2714-N-Izab...  \n7   https://www.zillow.com/homedetails/3580-Huron-...  \n8   https://www.zillow.com/homedetails/69-Leupp-Rd...  \n9   https://www.zillow.com/homedetails/1-Indian-Ru...  \n10  https://www.zillow.com/homedetails/2401-W-Rout...  \n11  https://www.zillow.com/homedetails/8275-E-Merc...  \n12  https://www.zillow.com/homedetails/15-W-Separa...  \n13  https://www.zillow.com/homedetails/1603-N-Cent...  \n14  https://www.zillow.com/homedetails/1600-N-Cent...  \n15  https://www.zillow.com/homedetails/2714-N-Izab...  \n16  https://www.zillow.com/homedetails/3580-Huron-...  \n17  https://www.zillow.com/homedetails/69-Leupp-Rd...  \n18  https://www.zillow.com/homedetails/2428-W-Rio-...  \n19  https://www.zillow.com/homedetails/5125-Wade-L...  \n20  https://www.zillow.com/homedetails/3528-W-Elec...  \n21  https://www.zillow.com/homedetails/69-Alpine-R...  \n22  https://www.zillow.com/homedetails/1804-N-Beav...  \n23  https://www.zillow.com/homedetails/4005-Lake-M...  \n24  https://www.zillow.com/homedetails/7400-Cody-R...  \n25  https://www.zillow.com/homedetails/1515-Castle...  \n26  https://www.zillow.com/homedetails/3128-E-Moun...  ",
      "text/html": "<div>\n<style scoped>\n    .dataframe tbody tr th:only-of-type {\n        vertical-align: middle;\n    }\n\n    .dataframe tbody tr th {\n        vertical-align: top;\n    }\n\n    .dataframe thead th {\n        text-align: right;\n    }\n</style>\n<table border=\"1\" class=\"dataframe\">\n  <thead>\n    <tr style=\"text-align: right;\">\n      <th></th>\n      <th>address</th>\n      <th>price</th>\n      <th>beds</th>\n      <th>baths</th>\n      <th>sqft</th>\n      <th>home type</th>\n      <th>last update</th>\n      <th>extra info</th>\n      <th>link</th>\n    </tr>\n  </thead>\n  <tbody>\n    <tr>\n      <th>0</th>\n      <td>1 Indian Rural Route Rd, Flagstaff, AZ 86004</td>\n      <td>40000.0</td>\n      <td>10</td>\n      <td>NaN</td>\n      <td>NaN</td>\n      <td>MLS ID #190170, REALTY ONE GROUP, MOUNTAIN DESERT</td>\n      <td>9 days on Zillow</td>\n      <td>MLS ID #190170, REALTY ONE GROUP, MOUNTAIN DESERT</td>\n      <td>https://www.zillow.com/homedetails/1-Indian-Ru...</td>\n    </tr>\n    <tr>\n      <th>1</th>\n      <td>2401 W Route 66 LOT 17, Flagstaff, AZ 86001</td>\n      <td>188500.0</td>\n      <td>3</td>\n      <td>2.0</td>\n      <td>1152.0</td>\n      <td>MLS ID #189872, RE/MAX FINE PROPERTIES</td>\n      <td>29 days on Zillow</td>\n      <td>MLS ID #189872, RE/MAX FINE PROPERTIES</td>\n      <td>https://www.zillow.com/homedetails/2401-W-Rout...</td>\n    </tr>\n    <tr>\n      <th>2</th>\n      <td>8275 E Mercury Dr, Flagstaff, AZ 86004</td>\n      <td>550000.0</td>\n      <td>3</td>\n      <td>2.0</td>\n      <td>1752.0</td>\n      <td>MLS ID #190147, REALTY ONE GROUP, MOUNTAIN DESERT</td>\n      <td>Price cut: $25,000 (Jun 8)</td>\n      <td>MLS ID #190147, REALTY ONE GROUP, MOUNTAIN DESERT</td>\n      <td>https://www.zillow.com/homedetails/8275-E-Merc...</td>\n    </tr>\n    <tr>\n      <th>3</th>\n      <td>15 W Separation Canyon Trl, Flagstaff, AZ 86005</td>\n      <td>858000.0</td>\n      <td>3</td>\n      <td>3.0</td>\n      <td>1955.0</td>\n      <td>MLS ID #190290, RE/MAX FINE PROPERTIES</td>\n      <td>Open: Sun. 12-3pm</td>\n      <td>MLS ID #190290, RE/MAX FINE PROPERTIES</td>\n      <td>https://www.zillow.com/homedetails/15-W-Separa...</td>\n    </tr>\n    <tr>\n      <th>4</th>\n      <td>1603 N Center St, Flagstaff, AZ 86004</td>\n      <td>1075000.0</td>\n      <td>8</td>\n      <td>4.0</td>\n      <td>3200.0</td>\n      <td>W AND PARTNERS, LLC</td>\n      <td>2 days on ZillowListing provided by ARMLS</td>\n      <td>W AND PARTNERS, LLC</td>\n      <td>https://www.zillow.com/homedetails/1603-N-Cent...</td>\n    </tr>\n    <tr>\n      <th>5</th>\n      <td>1600 N Center St, Flagstaff, AZ 86004</td>\n      <td>1075000.0</td>\n      <td>8</td>\n      <td>4.0</td>\n      <td>3200.0</td>\n      <td>W AND PARTNERS, LLC</td>\n      <td>2 days on ZillowListing provided by ARMLS</td>\n      <td>W AND PARTNERS, LLC</td>\n      <td>https://www.zillow.com/homedetails/1600-N-Cent...</td>\n    </tr>\n    <tr>\n      <th>6</th>\n      <td>2714 N Izabel St, Flagstaff, AZ 86004</td>\n      <td>1075000.0</td>\n      <td>8</td>\n      <td>4.0</td>\n      <td>2900.0</td>\n      <td>W AND PARTNERS, LLC</td>\n      <td>2 days on ZillowListing provided by ARMLS</td>\n      <td>W AND PARTNERS, LLC</td>\n      <td>https://www.zillow.com/homedetails/2714-N-Izab...</td>\n    </tr>\n    <tr>\n      <th>7</th>\n      <td>3580 Huron, Flagstaff, AZ 86005</td>\n      <td>575000.0</td>\n      <td>3</td>\n      <td>3.0</td>\n      <td>1583.0</td>\n      <td>VILLAGE LAND SHOPPE</td>\n      <td>9 days on ZillowListing provided by ARMLS</td>\n      <td>VILLAGE LAND SHOPPE</td>\n      <td>https://www.zillow.com/homedetails/3580-Huron-...</td>\n    </tr>\n    <tr>\n      <th>8</th>\n      <td>69 Leupp Rd, Flagstaff, AZ 86004</td>\n      <td>293000.0</td>\n      <td>3</td>\n      <td>1.0</td>\n      <td>1120.0</td>\n      <td>MLS ID #190038, CONGRESS REALTY</td>\n      <td>Price cut: $11,900 (Jun 1)</td>\n      <td>MLS ID #190038, CONGRESS REALTY</td>\n      <td>https://www.zillow.com/homedetails/69-Leupp-Rd...</td>\n    </tr>\n    <tr>\n      <th>9</th>\n      <td>1 Indian Rural Route Rd, Flagstaff, AZ 86004</td>\n      <td>40000.0</td>\n      <td>10</td>\n      <td>NaN</td>\n      <td>NaN</td>\n      <td>MLS ID #190170, REALTY ONE GROUP, MOUNTAIN DESERT</td>\n      <td>9 days on Zillow</td>\n      <td>MLS ID #190170, REALTY ONE GROUP, MOUNTAIN DESERT</td>\n      <td>https://www.zillow.com/homedetails/1-Indian-Ru...</td>\n    </tr>\n    <tr>\n      <th>10</th>\n      <td>2401 W Route 66 LOT 17, Flagstaff, AZ 86001</td>\n      <td>188500.0</td>\n      <td>3</td>\n      <td>2.0</td>\n      <td>1152.0</td>\n      <td>MLS ID #189872, RE/MAX FINE PROPERTIES</td>\n      <td>29 days on Zillow</td>\n      <td>MLS ID #189872, RE/MAX FINE PROPERTIES</td>\n      <td>https://www.zillow.com/homedetails/2401-W-Rout...</td>\n    </tr>\n    <tr>\n      <th>11</th>\n      <td>8275 E Mercury Dr, Flagstaff, AZ 86004</td>\n      <td>550000.0</td>\n      <td>3</td>\n      <td>2.0</td>\n      <td>1752.0</td>\n      <td>MLS ID #190147, REALTY ONE GROUP, MOUNTAIN DESERT</td>\n      <td>Price cut: $25,000 (Jun 8)</td>\n      <td>MLS ID #190147, REALTY ONE GROUP, MOUNTAIN DESERT</td>\n      <td>https://www.zillow.com/homedetails/8275-E-Merc...</td>\n    </tr>\n    <tr>\n      <th>12</th>\n      <td>15 W Separation Canyon Trl, Flagstaff, AZ 86005</td>\n      <td>858000.0</td>\n      <td>3</td>\n      <td>3.0</td>\n      <td>1955.0</td>\n      <td>MLS ID #190290, RE/MAX FINE PROPERTIES</td>\n      <td>Open: Sun. 12-3pm</td>\n      <td>MLS ID #190290, RE/MAX FINE PROPERTIES</td>\n      <td>https://www.zillow.com/homedetails/15-W-Separa...</td>\n    </tr>\n    <tr>\n      <th>13</th>\n      <td>1603 N Center St, Flagstaff, AZ 86004</td>\n      <td>1075000.0</td>\n      <td>8</td>\n      <td>4.0</td>\n      <td>3200.0</td>\n      <td>W AND PARTNERS, LLC</td>\n      <td>2 days on ZillowListing provided by ARMLS</td>\n      <td>W AND PARTNERS, LLC</td>\n      <td>https://www.zillow.com/homedetails/1603-N-Cent...</td>\n    </tr>\n    <tr>\n      <th>14</th>\n      <td>1600 N Center St, Flagstaff, AZ 86004</td>\n      <td>1075000.0</td>\n      <td>8</td>\n      <td>4.0</td>\n      <td>3200.0</td>\n      <td>W AND PARTNERS, LLC</td>\n      <td>2 days on ZillowListing provided by ARMLS</td>\n      <td>W AND PARTNERS, LLC</td>\n      <td>https://www.zillow.com/homedetails/1600-N-Cent...</td>\n    </tr>\n    <tr>\n      <th>15</th>\n      <td>2714 N Izabel St, Flagstaff, AZ 86004</td>\n      <td>1075000.0</td>\n      <td>8</td>\n      <td>4.0</td>\n      <td>2900.0</td>\n      <td>W AND PARTNERS, LLC</td>\n      <td>2 days on ZillowListing provided by ARMLS</td>\n      <td>W AND PARTNERS, LLC</td>\n      <td>https://www.zillow.com/homedetails/2714-N-Izab...</td>\n    </tr>\n    <tr>\n      <th>16</th>\n      <td>3580 Huron, Flagstaff, AZ 86005</td>\n      <td>575000.0</td>\n      <td>3</td>\n      <td>3.0</td>\n      <td>1583.0</td>\n      <td>VILLAGE LAND SHOPPE</td>\n      <td>9 days on ZillowListing provided by ARMLS</td>\n      <td>VILLAGE LAND SHOPPE</td>\n      <td>https://www.zillow.com/homedetails/3580-Huron-...</td>\n    </tr>\n    <tr>\n      <th>17</th>\n      <td>69 Leupp Rd, Flagstaff, AZ 86004</td>\n      <td>293000.0</td>\n      <td>3</td>\n      <td>1.0</td>\n      <td>1120.0</td>\n      <td>MLS ID #190038, CONGRESS REALTY</td>\n      <td>Price cut: $11,900 (Jun 1)</td>\n      <td>MLS ID #190038, CONGRESS REALTY</td>\n      <td>https://www.zillow.com/homedetails/69-Leupp-Rd...</td>\n    </tr>\n    <tr>\n      <th>18</th>\n      <td>2428 W Rio Grande Ct, Flagstaff, AZ 86001</td>\n      <td>409000.0</td>\n      <td>3</td>\n      <td>2.0</td>\n      <td>1080.0</td>\n      <td>MLS ID #190143, REALTY ONE GROUP, MOUNTAIN DESERT</td>\n      <td>10 days on Zillow</td>\n      <td>MLS ID #190143, REALTY ONE GROUP, MOUNTAIN DESERT</td>\n      <td>https://www.zillow.com/homedetails/2428-W-Rio-...</td>\n    </tr>\n    <tr>\n      <th>19</th>\n      <td>5125 Wade Ln, Flagstaff, AZ 86004</td>\n      <td>849900.0</td>\n      <td>4</td>\n      <td>3.0</td>\n      <td>3439.0</td>\n      <td>FLAGSTAFF REAL ESTATE PROFESSIONALS</td>\n      <td>2 days on ZillowListing provided by ARMLS</td>\n      <td>FLAGSTAFF REAL ESTATE PROFESSIONALS</td>\n      <td>https://www.zillow.com/homedetails/5125-Wade-L...</td>\n    </tr>\n    <tr>\n      <th>20</th>\n      <td>3528 W Electra Dr, Flagstaff, AZ 86001</td>\n      <td>1250000.0</td>\n      <td>5</td>\n      <td>4.0</td>\n      <td>2926.0</td>\n      <td>REALTY ONE GROUP</td>\n      <td>1 day on ZillowListing provided by ARMLS</td>\n      <td>REALTY ONE GROUP</td>\n      <td>https://www.zillow.com/homedetails/3528-W-Elec...</td>\n    </tr>\n    <tr>\n      <th>21</th>\n      <td>69 Alpine Rnch, Flagstaff, AZ 86004</td>\n      <td>74700.0</td>\n      <td>10</td>\n      <td>NaN</td>\n      <td>NaN</td>\n      <td>MLS ID #188233, RE/MAX FINE PROPERTIES</td>\n      <td>Price cut: $100 (Apr 10)</td>\n      <td>MLS ID #188233, RE/MAX FINE PROPERTIES</td>\n      <td>https://www.zillow.com/homedetails/69-Alpine-R...</td>\n    </tr>\n    <tr>\n      <th>22</th>\n      <td>1804 N Beaver St, Flagstaff, AZ 86001</td>\n      <td>862500.0</td>\n      <td>4</td>\n      <td>3.0</td>\n      <td>3137.0</td>\n      <td>MLS ID #190157, REALTY EXECUTIVES OF FLAGSTAFF</td>\n      <td>10 days on Zillow</td>\n      <td>MLS ID #190157, REALTY EXECUTIVES OF FLAGSTAFF</td>\n      <td>https://www.zillow.com/homedetails/1804-N-Beav...</td>\n    </tr>\n    <tr>\n      <th>23</th>\n      <td>4005 Lake Mary Rd APT 17, Flagstaff, AZ 86005</td>\n      <td>384000.0</td>\n      <td>2</td>\n      <td>3.0</td>\n      <td>1275.0</td>\n      <td>MLS ID #190257, A.Z. &amp; ASSOCIATES, LLC</td>\n      <td>3 days on Zillow</td>\n      <td>MLS ID #190257, A.Z. &amp; ASSOCIATES, LLC</td>\n      <td>https://www.zillow.com/homedetails/4005-Lake-M...</td>\n    </tr>\n    <tr>\n      <th>24</th>\n      <td>7400 Cody Rd, Flagstaff, AZ 86004</td>\n      <td>495000.0</td>\n      <td>4</td>\n      <td>2.0</td>\n      <td>NaN</td>\n      <td>MLS ID #190231, REALTY ONE GROUP, MOUNTAIN DESERT</td>\n      <td>5 days on Zillow</td>\n      <td>MLS ID #190231, REALTY ONE GROUP, MOUNTAIN DESERT</td>\n      <td>https://www.zillow.com/homedetails/7400-Cody-R...</td>\n    </tr>\n    <tr>\n      <th>25</th>\n      <td>1515 Castle Hills Dr, Flagstaff, AZ 86005</td>\n      <td>1200000.0</td>\n      <td>3</td>\n      <td>3.0</td>\n      <td>1799.0</td>\n      <td>RE/MAX FINE PROPERTIES</td>\n      <td>2 days on ZillowListing provided by ARMLS</td>\n      <td>RE/MAX FINE PROPERTIES</td>\n      <td>https://www.zillow.com/homedetails/1515-Castle...</td>\n    </tr>\n    <tr>\n      <th>26</th>\n      <td>3128 E Mount Elden Dr, Flagstaff, AZ 86004</td>\n      <td>640000.0</td>\n      <td>3</td>\n      <td>2.0</td>\n      <td>1498.0</td>\n      <td>REALTY EXECUTIVES OF FLAGSTAFF</td>\n      <td>11 days on ZillowListing provided by ARMLS</td>\n      <td>REALTY EXECUTIVES OF FLAGSTAFF</td>\n      <td>https://www.zillow.com/homedetails/3128-E-Moun...</td>\n    </tr>\n  </tbody>\n</table>\n</div>"
     },
     "execution_count": 4,
     "metadata": {},
     "output_type": "execute_result"
    }
   ],
   "source": [
    "def get_info_from_zillow_pages(zillow_soup_pages):\n",
    "    df = pd.DataFrame()\n",
    "\n",
    "    address = []\n",
    "    price = []\n",
    "    beds = []\n",
    "    baths = []\n",
    "    square_ft =[]\n",
    "    home_type = []\n",
    "    last_updated = []\n",
    "    extra_info = []\n",
    "    link = []\n",
    "\n",
    "    for soup in zillow_soup_pages:\n",
    "        temp = soup.find_all(class_= 'list-card-addr')\n",
    "        adder_texts = [t.text for t in temp]\n",
    "        address = address.__add__(adder_texts)  # adds the address as string as single elements\n",
    "\n",
    "        temp = soup.find_all(class_='list-card-price', text=True)\n",
    "        price_texts = [t.text for t in temp]\n",
    "        price = price.__add__(price_texts)  # adds the address as string as single elements\n",
    "\n",
    "        details = soup.find_all(\"ul\", class_=\"list-card-details\")\n",
    "\n",
    "        for d in details:\n",
    "            temp = d.find_all(class_=\"\")\n",
    "            if len(temp) == 0:\n",
    "                beds.append(\"\")  # grab the number, drop the string bds\n",
    "            else:\n",
    "                beds.append(temp[0].text.split(\" \")[0])  # grab the number, drop the string bds\n",
    "\n",
    "            if len(temp) < 2:\n",
    "                baths.append(\"\")  # grab the number, drop the string ba\n",
    "            else:\n",
    "                baths.append(temp[1].text.split(\" \")[0])  # grab the number, drop the string ba\n",
    "\n",
    "            if len(temp) < 3:\n",
    "                square_ft.append(\"\")  # grab the number, drop the string sqft\n",
    "            else:\n",
    "                square_ft.append(temp[2].text.split(\" \")[0])  # grab the number, drop the string sqft\n",
    "\n",
    "        temp = soup.find_all('div', {'class': 'list-card-footer'})\n",
    "        home_texts = [t.text for t in temp if t.text != '']\n",
    "        home_type = home_type.__add__(home_texts)  # adds the address as string as single elements\n",
    "\n",
    "        temp = soup.find_all('div', {'class': 'list-card-top'})\n",
    "        updated_texts = [t.text for t in temp if t.text != '']\n",
    "        last_updated = last_updated.__add__(updated_texts)  # adds the address as string as single elements\n",
    "\n",
    "        temp = soup.find_all(class_= 'list-card-link')\n",
    "        href_link = []\n",
    "        last_temp = None\n",
    "        for t in temp:\n",
    "            if last_temp is None or last_temp != t.get(\"href\"):\n",
    "                if t.get(\"href\") is None:\n",
    "                    continue\n",
    "                last_temp = t.get(\"href\")\n",
    "                href_link.append(t.get(\"href\"))\n",
    "        link = link.__add__(href_link)  # adds the address as string as single elements\n",
    "\n",
    "        temp = soup.find_all(class_='list-card-extra-info')\n",
    "        extra_text = [t.text for t in temp]\n",
    "        extra_info = extra_info.__add__(extra_text)  # adds the address as string as single elements\n",
    "\n",
    "\n",
    "    df['address'] = address\n",
    "    df['price'] = price\n",
    "    df['beds'] = beds\n",
    "    df['baths'] = baths\n",
    "    df['sqft'] = square_ft\n",
    "    df['home type'] = home_type\n",
    "    df['last update'] = last_updated\n",
    "    df['extra info'] = extra_info\n",
    "    df['link'] = link\n",
    "\n",
    "    # numeric conversions\n",
    "    df['price'] = df['price'].str.replace('$', '')\n",
    "    df['price'] = df['price'].str.replace(',', '')\n",
    "    df['price'] = df['price'].astype('float')\n",
    "    df['beds'] = pd.to_numeric(df['beds'], errors='coerce')\n",
    "    df['baths'] = pd.to_numeric(df['baths'], errors='coerce')\n",
    "    df['sqft'] = df['sqft'].str.replace(',', '')\n",
    "    df['sqft'] = pd.to_numeric(df['sqft'], errors='coerce')\n",
    "    return df\n",
    "\n",
    "df_z = get_info_from_zillow_pages(soups)\n",
    "df_z"
   ],
   "metadata": {
    "collapsed": false,
    "pycharm": {
     "name": "#%%\n"
    }
   }
  },
  {
   "cell_type": "markdown",
   "source": [
    "Now if you want to grab further data from the Zillow listings you can do so by grabbing the HTML for the specific listing and parsing that data. In the example below the Zillow house estimate is grabbed and added to the pandas DataFrame. Further data can be collect by adding to the code below as needed."
   ],
   "metadata": {
    "collapsed": false,
    "pycharm": {
     "name": "#%% md\n"
    }
   }
  },
  {
   "cell_type": "code",
   "execution_count": 5,
   "outputs": [
    {
     "data": {
      "text/plain": "                                            address      price  beds  baths  \\\n0      1 Indian Rural Route Rd, Flagstaff, AZ 86004    40000.0    10    NaN   \n1       2401 W Route 66 LOT 17, Flagstaff, AZ 86001   188500.0     3    2.0   \n2            8275 E Mercury Dr, Flagstaff, AZ 86004   550000.0     3    2.0   \n3   15 W Separation Canyon Trl, Flagstaff, AZ 86005   858000.0     3    3.0   \n4             1603 N Center St, Flagstaff, AZ 86004  1075000.0     8    4.0   \n5             1600 N Center St, Flagstaff, AZ 86004  1075000.0     8    4.0   \n6             2714 N Izabel St, Flagstaff, AZ 86004  1075000.0     8    4.0   \n7                   3580 Huron, Flagstaff, AZ 86005   575000.0     3    3.0   \n8                  69 Leupp Rd, Flagstaff, AZ 86004   293000.0     3    1.0   \n9      1 Indian Rural Route Rd, Flagstaff, AZ 86004    40000.0    10    NaN   \n10      2401 W Route 66 LOT 17, Flagstaff, AZ 86001   188500.0     3    2.0   \n11           8275 E Mercury Dr, Flagstaff, AZ 86004   550000.0     3    2.0   \n12  15 W Separation Canyon Trl, Flagstaff, AZ 86005   858000.0     3    3.0   \n13            1603 N Center St, Flagstaff, AZ 86004  1075000.0     8    4.0   \n14            1600 N Center St, Flagstaff, AZ 86004  1075000.0     8    4.0   \n15            2714 N Izabel St, Flagstaff, AZ 86004  1075000.0     8    4.0   \n16                  3580 Huron, Flagstaff, AZ 86005   575000.0     3    3.0   \n17                 69 Leupp Rd, Flagstaff, AZ 86004   293000.0     3    1.0   \n18        2428 W Rio Grande Ct, Flagstaff, AZ 86001   409000.0     3    2.0   \n19                5125 Wade Ln, Flagstaff, AZ 86004   849900.0     4    3.0   \n20           3528 W Electra Dr, Flagstaff, AZ 86001  1250000.0     5    4.0   \n21              69 Alpine Rnch, Flagstaff, AZ 86004    74700.0    10    NaN   \n22            1804 N Beaver St, Flagstaff, AZ 86001   862500.0     4    3.0   \n23    4005 Lake Mary Rd APT 17, Flagstaff, AZ 86005   384000.0     2    3.0   \n24                7400 Cody Rd, Flagstaff, AZ 86004   495000.0     4    2.0   \n25        1515 Castle Hills Dr, Flagstaff, AZ 86005  1200000.0     3    3.0   \n26       3128 E Mount Elden Dr, Flagstaff, AZ 86004   640000.0     3    2.0   \n\n      sqft                                          home type  \\\n0      NaN  MLS ID #190170, REALTY ONE GROUP, MOUNTAIN DESERT   \n1   1152.0             MLS ID #189872, RE/MAX FINE PROPERTIES   \n2   1752.0  MLS ID #190147, REALTY ONE GROUP, MOUNTAIN DESERT   \n3   1955.0             MLS ID #190290, RE/MAX FINE PROPERTIES   \n4   3200.0                                W AND PARTNERS, LLC   \n5   3200.0                                W AND PARTNERS, LLC   \n6   2900.0                                W AND PARTNERS, LLC   \n7   1583.0                                VILLAGE LAND SHOPPE   \n8   1120.0                    MLS ID #190038, CONGRESS REALTY   \n9      NaN  MLS ID #190170, REALTY ONE GROUP, MOUNTAIN DESERT   \n10  1152.0             MLS ID #189872, RE/MAX FINE PROPERTIES   \n11  1752.0  MLS ID #190147, REALTY ONE GROUP, MOUNTAIN DESERT   \n12  1955.0             MLS ID #190290, RE/MAX FINE PROPERTIES   \n13  3200.0                                W AND PARTNERS, LLC   \n14  3200.0                                W AND PARTNERS, LLC   \n15  2900.0                                W AND PARTNERS, LLC   \n16  1583.0                                VILLAGE LAND SHOPPE   \n17  1120.0                    MLS ID #190038, CONGRESS REALTY   \n18  1080.0  MLS ID #190143, REALTY ONE GROUP, MOUNTAIN DESERT   \n19  3439.0                FLAGSTAFF REAL ESTATE PROFESSIONALS   \n20  2926.0                                   REALTY ONE GROUP   \n21     NaN             MLS ID #188233, RE/MAX FINE PROPERTIES   \n22  3137.0     MLS ID #190157, REALTY EXECUTIVES OF FLAGSTAFF   \n23  1275.0             MLS ID #190257, A.Z. & ASSOCIATES, LLC   \n24     NaN  MLS ID #190231, REALTY ONE GROUP, MOUNTAIN DESERT   \n25  1799.0                             RE/MAX FINE PROPERTIES   \n26  1498.0                     REALTY EXECUTIVES OF FLAGSTAFF   \n\n                                   last update  \\\n0                             9 days on Zillow   \n1                            29 days on Zillow   \n2                   Price cut: $25,000 (Jun 8)   \n3                            Open: Sun. 12-3pm   \n4    2 days on ZillowListing provided by ARMLS   \n5    2 days on ZillowListing provided by ARMLS   \n6    2 days on ZillowListing provided by ARMLS   \n7    9 days on ZillowListing provided by ARMLS   \n8                   Price cut: $11,900 (Jun 1)   \n9                             9 days on Zillow   \n10                           29 days on Zillow   \n11                  Price cut: $25,000 (Jun 8)   \n12                           Open: Sun. 12-3pm   \n13   2 days on ZillowListing provided by ARMLS   \n14   2 days on ZillowListing provided by ARMLS   \n15   2 days on ZillowListing provided by ARMLS   \n16   9 days on ZillowListing provided by ARMLS   \n17                  Price cut: $11,900 (Jun 1)   \n18                           10 days on Zillow   \n19   2 days on ZillowListing provided by ARMLS   \n20    1 day on ZillowListing provided by ARMLS   \n21                    Price cut: $100 (Apr 10)   \n22                           10 days on Zillow   \n23                            3 days on Zillow   \n24                            5 days on Zillow   \n25   2 days on ZillowListing provided by ARMLS   \n26  11 days on ZillowListing provided by ARMLS   \n\n                                           extra info  \\\n0   MLS ID #190170, REALTY ONE GROUP, MOUNTAIN DESERT   \n1              MLS ID #189872, RE/MAX FINE PROPERTIES   \n2   MLS ID #190147, REALTY ONE GROUP, MOUNTAIN DESERT   \n3              MLS ID #190290, RE/MAX FINE PROPERTIES   \n4                                 W AND PARTNERS, LLC   \n5                                 W AND PARTNERS, LLC   \n6                                 W AND PARTNERS, LLC   \n7                                 VILLAGE LAND SHOPPE   \n8                     MLS ID #190038, CONGRESS REALTY   \n9   MLS ID #190170, REALTY ONE GROUP, MOUNTAIN DESERT   \n10             MLS ID #189872, RE/MAX FINE PROPERTIES   \n11  MLS ID #190147, REALTY ONE GROUP, MOUNTAIN DESERT   \n12             MLS ID #190290, RE/MAX FINE PROPERTIES   \n13                                W AND PARTNERS, LLC   \n14                                W AND PARTNERS, LLC   \n15                                W AND PARTNERS, LLC   \n16                                VILLAGE LAND SHOPPE   \n17                    MLS ID #190038, CONGRESS REALTY   \n18  MLS ID #190143, REALTY ONE GROUP, MOUNTAIN DESERT   \n19                FLAGSTAFF REAL ESTATE PROFESSIONALS   \n20                                   REALTY ONE GROUP   \n21             MLS ID #188233, RE/MAX FINE PROPERTIES   \n22     MLS ID #190157, REALTY EXECUTIVES OF FLAGSTAFF   \n23             MLS ID #190257, A.Z. & ASSOCIATES, LLC   \n24  MLS ID #190231, REALTY ONE GROUP, MOUNTAIN DESERT   \n25                             RE/MAX FINE PROPERTIES   \n26                     REALTY EXECUTIVES OF FLAGSTAFF   \n\n                                                 link Zestimate  \n0   https://www.zillow.com/homedetails/1-Indian-Ru...            \n1   https://www.zillow.com/homedetails/2401-W-Rout...            \n2   https://www.zillow.com/homedetails/8275-E-Merc...  $594,200  \n3   https://www.zillow.com/homedetails/15-W-Separa...  $851,600  \n4   https://www.zillow.com/homedetails/1603-N-Cent...            \n5   https://www.zillow.com/homedetails/1600-N-Cent...            \n6   https://www.zillow.com/homedetails/2714-N-Izab...            \n7   https://www.zillow.com/homedetails/3580-Huron-...            \n8   https://www.zillow.com/homedetails/69-Leupp-Rd...            \n9   https://www.zillow.com/homedetails/1-Indian-Ru...            \n10  https://www.zillow.com/homedetails/2401-W-Rout...            \n11  https://www.zillow.com/homedetails/8275-E-Merc...  $594,200  \n12  https://www.zillow.com/homedetails/15-W-Separa...  $851,600  \n13  https://www.zillow.com/homedetails/1603-N-Cent...            \n14  https://www.zillow.com/homedetails/1600-N-Cent...            \n15  https://www.zillow.com/homedetails/2714-N-Izab...            \n16  https://www.zillow.com/homedetails/3580-Huron-...            \n17  https://www.zillow.com/homedetails/69-Leupp-Rd...            \n18  https://www.zillow.com/homedetails/2428-W-Rio-...  $419,700  \n19  https://www.zillow.com/homedetails/5125-Wade-L...            \n20  https://www.zillow.com/homedetails/3528-W-Elec...            \n21  https://www.zillow.com/homedetails/69-Alpine-R...            \n22  https://www.zillow.com/homedetails/1804-N-Beav...  $862,500  \n23  https://www.zillow.com/homedetails/4005-Lake-M...            \n24  https://www.zillow.com/homedetails/7400-Cody-R...  $543,500  \n25  https://www.zillow.com/homedetails/1515-Castle...            \n26  https://www.zillow.com/homedetails/3128-E-Moun...            ",
      "text/html": "<div>\n<style scoped>\n    .dataframe tbody tr th:only-of-type {\n        vertical-align: middle;\n    }\n\n    .dataframe tbody tr th {\n        vertical-align: top;\n    }\n\n    .dataframe thead th {\n        text-align: right;\n    }\n</style>\n<table border=\"1\" class=\"dataframe\">\n  <thead>\n    <tr style=\"text-align: right;\">\n      <th></th>\n      <th>address</th>\n      <th>price</th>\n      <th>beds</th>\n      <th>baths</th>\n      <th>sqft</th>\n      <th>home type</th>\n      <th>last update</th>\n      <th>extra info</th>\n      <th>link</th>\n      <th>Zestimate</th>\n    </tr>\n  </thead>\n  <tbody>\n    <tr>\n      <th>0</th>\n      <td>1 Indian Rural Route Rd, Flagstaff, AZ 86004</td>\n      <td>40000.0</td>\n      <td>10</td>\n      <td>NaN</td>\n      <td>NaN</td>\n      <td>MLS ID #190170, REALTY ONE GROUP, MOUNTAIN DESERT</td>\n      <td>9 days on Zillow</td>\n      <td>MLS ID #190170, REALTY ONE GROUP, MOUNTAIN DESERT</td>\n      <td>https://www.zillow.com/homedetails/1-Indian-Ru...</td>\n      <td></td>\n    </tr>\n    <tr>\n      <th>1</th>\n      <td>2401 W Route 66 LOT 17, Flagstaff, AZ 86001</td>\n      <td>188500.0</td>\n      <td>3</td>\n      <td>2.0</td>\n      <td>1152.0</td>\n      <td>MLS ID #189872, RE/MAX FINE PROPERTIES</td>\n      <td>29 days on Zillow</td>\n      <td>MLS ID #189872, RE/MAX FINE PROPERTIES</td>\n      <td>https://www.zillow.com/homedetails/2401-W-Rout...</td>\n      <td></td>\n    </tr>\n    <tr>\n      <th>2</th>\n      <td>8275 E Mercury Dr, Flagstaff, AZ 86004</td>\n      <td>550000.0</td>\n      <td>3</td>\n      <td>2.0</td>\n      <td>1752.0</td>\n      <td>MLS ID #190147, REALTY ONE GROUP, MOUNTAIN DESERT</td>\n      <td>Price cut: $25,000 (Jun 8)</td>\n      <td>MLS ID #190147, REALTY ONE GROUP, MOUNTAIN DESERT</td>\n      <td>https://www.zillow.com/homedetails/8275-E-Merc...</td>\n      <td>$594,200</td>\n    </tr>\n    <tr>\n      <th>3</th>\n      <td>15 W Separation Canyon Trl, Flagstaff, AZ 86005</td>\n      <td>858000.0</td>\n      <td>3</td>\n      <td>3.0</td>\n      <td>1955.0</td>\n      <td>MLS ID #190290, RE/MAX FINE PROPERTIES</td>\n      <td>Open: Sun. 12-3pm</td>\n      <td>MLS ID #190290, RE/MAX FINE PROPERTIES</td>\n      <td>https://www.zillow.com/homedetails/15-W-Separa...</td>\n      <td>$851,600</td>\n    </tr>\n    <tr>\n      <th>4</th>\n      <td>1603 N Center St, Flagstaff, AZ 86004</td>\n      <td>1075000.0</td>\n      <td>8</td>\n      <td>4.0</td>\n      <td>3200.0</td>\n      <td>W AND PARTNERS, LLC</td>\n      <td>2 days on ZillowListing provided by ARMLS</td>\n      <td>W AND PARTNERS, LLC</td>\n      <td>https://www.zillow.com/homedetails/1603-N-Cent...</td>\n      <td></td>\n    </tr>\n    <tr>\n      <th>5</th>\n      <td>1600 N Center St, Flagstaff, AZ 86004</td>\n      <td>1075000.0</td>\n      <td>8</td>\n      <td>4.0</td>\n      <td>3200.0</td>\n      <td>W AND PARTNERS, LLC</td>\n      <td>2 days on ZillowListing provided by ARMLS</td>\n      <td>W AND PARTNERS, LLC</td>\n      <td>https://www.zillow.com/homedetails/1600-N-Cent...</td>\n      <td></td>\n    </tr>\n    <tr>\n      <th>6</th>\n      <td>2714 N Izabel St, Flagstaff, AZ 86004</td>\n      <td>1075000.0</td>\n      <td>8</td>\n      <td>4.0</td>\n      <td>2900.0</td>\n      <td>W AND PARTNERS, LLC</td>\n      <td>2 days on ZillowListing provided by ARMLS</td>\n      <td>W AND PARTNERS, LLC</td>\n      <td>https://www.zillow.com/homedetails/2714-N-Izab...</td>\n      <td></td>\n    </tr>\n    <tr>\n      <th>7</th>\n      <td>3580 Huron, Flagstaff, AZ 86005</td>\n      <td>575000.0</td>\n      <td>3</td>\n      <td>3.0</td>\n      <td>1583.0</td>\n      <td>VILLAGE LAND SHOPPE</td>\n      <td>9 days on ZillowListing provided by ARMLS</td>\n      <td>VILLAGE LAND SHOPPE</td>\n      <td>https://www.zillow.com/homedetails/3580-Huron-...</td>\n      <td></td>\n    </tr>\n    <tr>\n      <th>8</th>\n      <td>69 Leupp Rd, Flagstaff, AZ 86004</td>\n      <td>293000.0</td>\n      <td>3</td>\n      <td>1.0</td>\n      <td>1120.0</td>\n      <td>MLS ID #190038, CONGRESS REALTY</td>\n      <td>Price cut: $11,900 (Jun 1)</td>\n      <td>MLS ID #190038, CONGRESS REALTY</td>\n      <td>https://www.zillow.com/homedetails/69-Leupp-Rd...</td>\n      <td></td>\n    </tr>\n    <tr>\n      <th>9</th>\n      <td>1 Indian Rural Route Rd, Flagstaff, AZ 86004</td>\n      <td>40000.0</td>\n      <td>10</td>\n      <td>NaN</td>\n      <td>NaN</td>\n      <td>MLS ID #190170, REALTY ONE GROUP, MOUNTAIN DESERT</td>\n      <td>9 days on Zillow</td>\n      <td>MLS ID #190170, REALTY ONE GROUP, MOUNTAIN DESERT</td>\n      <td>https://www.zillow.com/homedetails/1-Indian-Ru...</td>\n      <td></td>\n    </tr>\n    <tr>\n      <th>10</th>\n      <td>2401 W Route 66 LOT 17, Flagstaff, AZ 86001</td>\n      <td>188500.0</td>\n      <td>3</td>\n      <td>2.0</td>\n      <td>1152.0</td>\n      <td>MLS ID #189872, RE/MAX FINE PROPERTIES</td>\n      <td>29 days on Zillow</td>\n      <td>MLS ID #189872, RE/MAX FINE PROPERTIES</td>\n      <td>https://www.zillow.com/homedetails/2401-W-Rout...</td>\n      <td></td>\n    </tr>\n    <tr>\n      <th>11</th>\n      <td>8275 E Mercury Dr, Flagstaff, AZ 86004</td>\n      <td>550000.0</td>\n      <td>3</td>\n      <td>2.0</td>\n      <td>1752.0</td>\n      <td>MLS ID #190147, REALTY ONE GROUP, MOUNTAIN DESERT</td>\n      <td>Price cut: $25,000 (Jun 8)</td>\n      <td>MLS ID #190147, REALTY ONE GROUP, MOUNTAIN DESERT</td>\n      <td>https://www.zillow.com/homedetails/8275-E-Merc...</td>\n      <td>$594,200</td>\n    </tr>\n    <tr>\n      <th>12</th>\n      <td>15 W Separation Canyon Trl, Flagstaff, AZ 86005</td>\n      <td>858000.0</td>\n      <td>3</td>\n      <td>3.0</td>\n      <td>1955.0</td>\n      <td>MLS ID #190290, RE/MAX FINE PROPERTIES</td>\n      <td>Open: Sun. 12-3pm</td>\n      <td>MLS ID #190290, RE/MAX FINE PROPERTIES</td>\n      <td>https://www.zillow.com/homedetails/15-W-Separa...</td>\n      <td>$851,600</td>\n    </tr>\n    <tr>\n      <th>13</th>\n      <td>1603 N Center St, Flagstaff, AZ 86004</td>\n      <td>1075000.0</td>\n      <td>8</td>\n      <td>4.0</td>\n      <td>3200.0</td>\n      <td>W AND PARTNERS, LLC</td>\n      <td>2 days on ZillowListing provided by ARMLS</td>\n      <td>W AND PARTNERS, LLC</td>\n      <td>https://www.zillow.com/homedetails/1603-N-Cent...</td>\n      <td></td>\n    </tr>\n    <tr>\n      <th>14</th>\n      <td>1600 N Center St, Flagstaff, AZ 86004</td>\n      <td>1075000.0</td>\n      <td>8</td>\n      <td>4.0</td>\n      <td>3200.0</td>\n      <td>W AND PARTNERS, LLC</td>\n      <td>2 days on ZillowListing provided by ARMLS</td>\n      <td>W AND PARTNERS, LLC</td>\n      <td>https://www.zillow.com/homedetails/1600-N-Cent...</td>\n      <td></td>\n    </tr>\n    <tr>\n      <th>15</th>\n      <td>2714 N Izabel St, Flagstaff, AZ 86004</td>\n      <td>1075000.0</td>\n      <td>8</td>\n      <td>4.0</td>\n      <td>2900.0</td>\n      <td>W AND PARTNERS, LLC</td>\n      <td>2 days on ZillowListing provided by ARMLS</td>\n      <td>W AND PARTNERS, LLC</td>\n      <td>https://www.zillow.com/homedetails/2714-N-Izab...</td>\n      <td></td>\n    </tr>\n    <tr>\n      <th>16</th>\n      <td>3580 Huron, Flagstaff, AZ 86005</td>\n      <td>575000.0</td>\n      <td>3</td>\n      <td>3.0</td>\n      <td>1583.0</td>\n      <td>VILLAGE LAND SHOPPE</td>\n      <td>9 days on ZillowListing provided by ARMLS</td>\n      <td>VILLAGE LAND SHOPPE</td>\n      <td>https://www.zillow.com/homedetails/3580-Huron-...</td>\n      <td></td>\n    </tr>\n    <tr>\n      <th>17</th>\n      <td>69 Leupp Rd, Flagstaff, AZ 86004</td>\n      <td>293000.0</td>\n      <td>3</td>\n      <td>1.0</td>\n      <td>1120.0</td>\n      <td>MLS ID #190038, CONGRESS REALTY</td>\n      <td>Price cut: $11,900 (Jun 1)</td>\n      <td>MLS ID #190038, CONGRESS REALTY</td>\n      <td>https://www.zillow.com/homedetails/69-Leupp-Rd...</td>\n      <td></td>\n    </tr>\n    <tr>\n      <th>18</th>\n      <td>2428 W Rio Grande Ct, Flagstaff, AZ 86001</td>\n      <td>409000.0</td>\n      <td>3</td>\n      <td>2.0</td>\n      <td>1080.0</td>\n      <td>MLS ID #190143, REALTY ONE GROUP, MOUNTAIN DESERT</td>\n      <td>10 days on Zillow</td>\n      <td>MLS ID #190143, REALTY ONE GROUP, MOUNTAIN DESERT</td>\n      <td>https://www.zillow.com/homedetails/2428-W-Rio-...</td>\n      <td>$419,700</td>\n    </tr>\n    <tr>\n      <th>19</th>\n      <td>5125 Wade Ln, Flagstaff, AZ 86004</td>\n      <td>849900.0</td>\n      <td>4</td>\n      <td>3.0</td>\n      <td>3439.0</td>\n      <td>FLAGSTAFF REAL ESTATE PROFESSIONALS</td>\n      <td>2 days on ZillowListing provided by ARMLS</td>\n      <td>FLAGSTAFF REAL ESTATE PROFESSIONALS</td>\n      <td>https://www.zillow.com/homedetails/5125-Wade-L...</td>\n      <td></td>\n    </tr>\n    <tr>\n      <th>20</th>\n      <td>3528 W Electra Dr, Flagstaff, AZ 86001</td>\n      <td>1250000.0</td>\n      <td>5</td>\n      <td>4.0</td>\n      <td>2926.0</td>\n      <td>REALTY ONE GROUP</td>\n      <td>1 day on ZillowListing provided by ARMLS</td>\n      <td>REALTY ONE GROUP</td>\n      <td>https://www.zillow.com/homedetails/3528-W-Elec...</td>\n      <td></td>\n    </tr>\n    <tr>\n      <th>21</th>\n      <td>69 Alpine Rnch, Flagstaff, AZ 86004</td>\n      <td>74700.0</td>\n      <td>10</td>\n      <td>NaN</td>\n      <td>NaN</td>\n      <td>MLS ID #188233, RE/MAX FINE PROPERTIES</td>\n      <td>Price cut: $100 (Apr 10)</td>\n      <td>MLS ID #188233, RE/MAX FINE PROPERTIES</td>\n      <td>https://www.zillow.com/homedetails/69-Alpine-R...</td>\n      <td></td>\n    </tr>\n    <tr>\n      <th>22</th>\n      <td>1804 N Beaver St, Flagstaff, AZ 86001</td>\n      <td>862500.0</td>\n      <td>4</td>\n      <td>3.0</td>\n      <td>3137.0</td>\n      <td>MLS ID #190157, REALTY EXECUTIVES OF FLAGSTAFF</td>\n      <td>10 days on Zillow</td>\n      <td>MLS ID #190157, REALTY EXECUTIVES OF FLAGSTAFF</td>\n      <td>https://www.zillow.com/homedetails/1804-N-Beav...</td>\n      <td>$862,500</td>\n    </tr>\n    <tr>\n      <th>23</th>\n      <td>4005 Lake Mary Rd APT 17, Flagstaff, AZ 86005</td>\n      <td>384000.0</td>\n      <td>2</td>\n      <td>3.0</td>\n      <td>1275.0</td>\n      <td>MLS ID #190257, A.Z. &amp; ASSOCIATES, LLC</td>\n      <td>3 days on Zillow</td>\n      <td>MLS ID #190257, A.Z. &amp; ASSOCIATES, LLC</td>\n      <td>https://www.zillow.com/homedetails/4005-Lake-M...</td>\n      <td></td>\n    </tr>\n    <tr>\n      <th>24</th>\n      <td>7400 Cody Rd, Flagstaff, AZ 86004</td>\n      <td>495000.0</td>\n      <td>4</td>\n      <td>2.0</td>\n      <td>NaN</td>\n      <td>MLS ID #190231, REALTY ONE GROUP, MOUNTAIN DESERT</td>\n      <td>5 days on Zillow</td>\n      <td>MLS ID #190231, REALTY ONE GROUP, MOUNTAIN DESERT</td>\n      <td>https://www.zillow.com/homedetails/7400-Cody-R...</td>\n      <td>$543,500</td>\n    </tr>\n    <tr>\n      <th>25</th>\n      <td>1515 Castle Hills Dr, Flagstaff, AZ 86005</td>\n      <td>1200000.0</td>\n      <td>3</td>\n      <td>3.0</td>\n      <td>1799.0</td>\n      <td>RE/MAX FINE PROPERTIES</td>\n      <td>2 days on ZillowListing provided by ARMLS</td>\n      <td>RE/MAX FINE PROPERTIES</td>\n      <td>https://www.zillow.com/homedetails/1515-Castle...</td>\n      <td></td>\n    </tr>\n    <tr>\n      <th>26</th>\n      <td>3128 E Mount Elden Dr, Flagstaff, AZ 86004</td>\n      <td>640000.0</td>\n      <td>3</td>\n      <td>2.0</td>\n      <td>1498.0</td>\n      <td>REALTY EXECUTIVES OF FLAGSTAFF</td>\n      <td>11 days on ZillowListing provided by ARMLS</td>\n      <td>REALTY EXECUTIVES OF FLAGSTAFF</td>\n      <td>https://www.zillow.com/homedetails/3128-E-Moun...</td>\n      <td></td>\n    </tr>\n  </tbody>\n</table>\n</div>"
     },
     "execution_count": 5,
     "metadata": {},
     "output_type": "execute_result"
    }
   ],
   "source": [
    "def grab_listing_data(df, req_headers):\n",
    "    \"\"\"\n",
    "    Currently only setup to grab the zillow estimate\n",
    "\n",
    "    :param df:\n",
    "    :return:\n",
    "    \"\"\"\n",
    "    z_estimate = []\n",
    "\n",
    "    for l in df[\"link\"]:\n",
    "        with requests.Session() as s:\n",
    "            found_estimate = False\n",
    "            r = s.get(l, headers=req_headers)\n",
    "            soup = BeautifulSoup(r.content, 'html.parser')\n",
    "            temp = soup.find(class_=\"summary-container\")\n",
    "            temp = temp.find_all(\"span\")\n",
    "            for item in temp:\n",
    "                if item.text.startswith(\"Zestimate\") and item.text.split(\" \")[-1] != 'HelpHelp':\n",
    "                    found_estimate= True\n",
    "                    z_estimate.append(item.text.split(\" \")[-1])\n",
    "            if found_estimate is False:\n",
    "                z_estimate.append(\"\")\n",
    "\n",
    "    df[\"Zestimate\"] = z_estimate\n",
    "    return df\n",
    "\n",
    "df_z_with_listings = grab_listing_data(df_z, req_headers)\n",
    "df_z_with_listings"
   ],
   "metadata": {
    "collapsed": false,
    "pycharm": {
     "name": "#%%\n"
    }
   }
  },
  {
   "cell_type": "markdown",
   "source": [
    "\n"
   ],
   "metadata": {
    "collapsed": false,
    "pycharm": {
     "name": "#%% md\n"
    }
   }
  },
  {
   "cell_type": "markdown",
   "source": [],
   "metadata": {
    "collapsed": false,
    "pycharm": {
     "name": "#%% md\n"
    }
   }
  }
 ],
 "metadata": {
  "kernelspec": {
   "display_name": "Python 3",
   "language": "python",
   "name": "python3"
  },
  "language_info": {
   "codemirror_mode": {
    "name": "ipython",
    "version": 2
   },
   "file_extension": ".py",
   "mimetype": "text/x-python",
   "name": "python",
   "nbconvert_exporter": "python",
   "pygments_lexer": "ipython2",
   "version": "2.7.6"
  }
 },
 "nbformat": 4,
 "nbformat_minor": 0
}