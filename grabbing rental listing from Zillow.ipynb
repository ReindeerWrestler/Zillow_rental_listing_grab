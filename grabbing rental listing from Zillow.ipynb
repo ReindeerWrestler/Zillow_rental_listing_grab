{
 "cells": [
  {
   "cell_type": "code",
   "execution_count": 163,
   "metadata": {
    "collapsed": true
   },
   "outputs": [],
   "source": [
    "from bs4 import BeautifulSoup\n",
    "import pandas as pd\n",
    "import requests"
   ]
  },
  {
   "cell_type": "markdown",
   "metadata": {},
   "source": [
    "# Zillow listings web scraper\n",
    "\n",
    "The following code is able to scrap data from a zillow listing based on a city name and the number of zillow pages desired.\n",
    "\n",
    "To get access to Zillow web pages it is necessary to use headers in the URl. These headers bypass the normal web scraping blockers such as Captchas.\n"
   ]
  },
  {
   "cell_type": "code",
   "execution_count": 164,
   "metadata": {},
   "outputs": [],
   "source": [
    "req_headers = {\n",
    "    'accept': 'text/html,application/xhtml+xml,application/xml;q=0.9,image/webp,image/apng,*/*;q=0.8',\n",
    "    'accept-encoding': 'gzip, deflate, br',\n",
    "    'accept-language': 'en-US,en;q=0.8',\n",
    "    'upgrade-insecure-requests': '1',\n",
    "    'user-agent': 'Mozilla/5.0 (Windows NT 10.0; Win64; x64) AppleWebKit/537.36 (KHTML, like Gecko) Chrome/61.0.3163.100 Safari/537.36'\n",
    "}"
   ]
  },
  {
   "cell_type": "markdown",
   "metadata": {},
   "source": [
    "The function below takes in the name of a city, the URL headers, and a conditional parameter for the number of Zillow pages that you want.\n",
    "\n",
    "The html for each page is append into a list that will then be processed in the next code section."
   ]
  },
  {
   "cell_type": "code",
   "execution_count": 165,
   "metadata": {},
   "outputs": [],
   "source": [
    "\n",
    "def get_zillow_pages(city, req_headers, number_of_pages=1):\n",
    "    with requests.Session() as s:\n",
    "        response_content = []\n",
    "        for page in range(number_of_pages):\n",
    "            if page == 0:\n",
    "                response_content.append(s.get(f\"https://www.zillow.com/homes/for_sale/{city}/\", headers=req_headers))\n",
    "            response_content.append(s.get(f\"https://www.zillow.com/homes/for_sale/{city}/{page + 1}_p/\", headers=req_headers))\n",
    "\n",
    "        # parse into BeautifulSoup object\n",
    "        soups = []\n",
    "        for r in response_content:\n",
    "            soups.append(BeautifulSoup(r.content, 'html.parser'))\n",
    "        return soups\n",
    "\n",
    "soups = get_zillow_pages(\"flagstaff\", req_headers, number_of_pages=2)"
   ]
  },
  {
   "cell_type": "markdown",
   "metadata": {},
   "source": [
    "Now that the Zillow page HTML has been grabbed we can take some listing data from it. This data is limited to the listing address, price, beds, baths, square footing, home type, page link and when it was last updated. In some cases there is a bit of extra info such as the name of the broker.\n",
    "\n",
    "From here you can use the link to grab further data."
   ]
  },
  {
   "cell_type": "code",
   "execution_count": 166,
   "metadata": {},
   "outputs": [
    {
     "name": "stderr",
     "output_type": "stream",
     "text": [
      "/tmp/ipykernel_186159/3742927270.py:37: FutureWarning: The default value of regex will change from True to False in a future version. In addition, single character regular expressions will *not* be treated as literal strings when regex=True.\n",
      "  df['price'] = df['price'].str.replace('$', '')\n"
     ]
    },
    {
     "data": {
      "text/plain": "                                              address      price  \\\n0               9330 Valerie Way, Flagstaff, AZ 86004   595000.0   \n1               3484 Awatobi Ovi, Flagstaff, AZ 86005   485000.0   \n2                  8470 Selma Ln, Flagstaff, AZ 86004   395000.0   \n3                    69 Leupp Rd, Flagstaff, AZ 86004   289850.0   \n4               6050 E Camden Rd, Flagstaff, AZ 86004   875000.0   \n5                 2606 N Main St, Flagstaff, AZ 86004   450000.0   \n6          5339 Brackin Ranch Rd, Flagstaff, AZ 86001  1775000.0   \n7          2024 W University Ave, Flagstaff, AZ 86001   680000.0   \n8                4962 S Topaz Rd, Flagstaff, AZ 86005  1259000.0   \n9               9330 Valerie Way, Flagstaff, AZ 86004   595000.0   \n10              3484 Awatobi Ovi, Flagstaff, AZ 86005   485000.0   \n11                 8470 Selma Ln, Flagstaff, AZ 86004   395000.0   \n12                   69 Leupp Rd, Flagstaff, AZ 86004   289850.0   \n13              6050 E Camden Rd, Flagstaff, AZ 86004   875000.0   \n14                2606 N Main St, Flagstaff, AZ 86004   450000.0   \n15         5339 Brackin Ranch Rd, Flagstaff, AZ 86001  1775000.0   \n16         2024 W University Ave, Flagstaff, AZ 86001   680000.0   \n17               4962 S Topaz Rd, Flagstaff, AZ 86005  1259000.0   \n18           2199 N Fremont Blvd, Flagstaff, AZ 86001  1385000.0   \n19              19 Fun Valley Rd, Flagstaff, AZ 86001   180000.0   \n20  1346 W University Heights Dr S, Flagstaff, AZ ...   620000.0   \n21            7530 Koch Field Rd, Flagstaff, AZ 86004   985000.0   \n22         4417 E Wintergreen Rd, Flagstaff, AZ 86004   250000.0   \n23          7570 W Dreamview Trl, Flagstaff, AZ 86001   850000.0   \n24             1755 W Sequoia Dr, Flagstaff, AZ 86001   516000.0   \n25           665 N Pine Cliff Dr, Flagstaff, AZ 86001   615000.0   \n26         1401 N Royal Oaks Way, Flagstaff, AZ 86004   999900.0   \n\n                                                 link  \n0   https://www.zillow.com/homedetails/9330-Valeri...  \n1   https://www.zillow.com/homedetails/3484-Awatob...  \n2   https://www.zillow.com/homedetails/8470-Selma-...  \n3   https://www.zillow.com/homedetails/69-Leupp-Rd...  \n4   https://www.zillow.com/homedetails/6050-E-Camd...  \n5   https://www.zillow.com/homedetails/2606-N-Main...  \n6   https://www.zillow.com/homedetails/5339-Bracki...  \n7   https://www.zillow.com/homedetails/2024-W-Univ...  \n8   https://www.zillow.com/homedetails/4962-S-Topa...  \n9   https://www.zillow.com/homedetails/9330-Valeri...  \n10  https://www.zillow.com/homedetails/3484-Awatob...  \n11  https://www.zillow.com/homedetails/8470-Selma-...  \n12  https://www.zillow.com/homedetails/69-Leupp-Rd...  \n13  https://www.zillow.com/homedetails/6050-E-Camd...  \n14  https://www.zillow.com/homedetails/2606-N-Main...  \n15  https://www.zillow.com/homedetails/5339-Bracki...  \n16  https://www.zillow.com/homedetails/2024-W-Univ...  \n17  https://www.zillow.com/homedetails/4962-S-Topa...  \n18  https://www.zillow.com/homedetails/2199-N-Frem...  \n19  https://www.zillow.com/homedetails/19-Fun-Vall...  \n20  https://www.zillow.com/homedetails/1346-W-Univ...  \n21  https://www.zillow.com/homedetails/7530-Koch-F...  \n22  https://www.zillow.com/homedetails/4417-E-Wint...  \n23  https://www.zillow.com/homedetails/7570-W-Drea...  \n24  https://www.zillow.com/homedetails/1755-W-Sequ...  \n25  https://www.zillow.com/homedetails/665-N-Pine-...  \n26  https://www.zillow.com/homedetails/1401-N-Roya...  ",
      "text/html": "<div>\n<style scoped>\n    .dataframe tbody tr th:only-of-type {\n        vertical-align: middle;\n    }\n\n    .dataframe tbody tr th {\n        vertical-align: top;\n    }\n\n    .dataframe thead th {\n        text-align: right;\n    }\n</style>\n<table border=\"1\" class=\"dataframe\">\n  <thead>\n    <tr style=\"text-align: right;\">\n      <th></th>\n      <th>address</th>\n      <th>price</th>\n      <th>link</th>\n    </tr>\n  </thead>\n  <tbody>\n    <tr>\n      <th>0</th>\n      <td>9330 Valerie Way, Flagstaff, AZ 86004</td>\n      <td>595000.0</td>\n      <td>https://www.zillow.com/homedetails/9330-Valeri...</td>\n    </tr>\n    <tr>\n      <th>1</th>\n      <td>3484 Awatobi Ovi, Flagstaff, AZ 86005</td>\n      <td>485000.0</td>\n      <td>https://www.zillow.com/homedetails/3484-Awatob...</td>\n    </tr>\n    <tr>\n      <th>2</th>\n      <td>8470 Selma Ln, Flagstaff, AZ 86004</td>\n      <td>395000.0</td>\n      <td>https://www.zillow.com/homedetails/8470-Selma-...</td>\n    </tr>\n    <tr>\n      <th>3</th>\n      <td>69 Leupp Rd, Flagstaff, AZ 86004</td>\n      <td>289850.0</td>\n      <td>https://www.zillow.com/homedetails/69-Leupp-Rd...</td>\n    </tr>\n    <tr>\n      <th>4</th>\n      <td>6050 E Camden Rd, Flagstaff, AZ 86004</td>\n      <td>875000.0</td>\n      <td>https://www.zillow.com/homedetails/6050-E-Camd...</td>\n    </tr>\n    <tr>\n      <th>5</th>\n      <td>2606 N Main St, Flagstaff, AZ 86004</td>\n      <td>450000.0</td>\n      <td>https://www.zillow.com/homedetails/2606-N-Main...</td>\n    </tr>\n    <tr>\n      <th>6</th>\n      <td>5339 Brackin Ranch Rd, Flagstaff, AZ 86001</td>\n      <td>1775000.0</td>\n      <td>https://www.zillow.com/homedetails/5339-Bracki...</td>\n    </tr>\n    <tr>\n      <th>7</th>\n      <td>2024 W University Ave, Flagstaff, AZ 86001</td>\n      <td>680000.0</td>\n      <td>https://www.zillow.com/homedetails/2024-W-Univ...</td>\n    </tr>\n    <tr>\n      <th>8</th>\n      <td>4962 S Topaz Rd, Flagstaff, AZ 86005</td>\n      <td>1259000.0</td>\n      <td>https://www.zillow.com/homedetails/4962-S-Topa...</td>\n    </tr>\n    <tr>\n      <th>9</th>\n      <td>9330 Valerie Way, Flagstaff, AZ 86004</td>\n      <td>595000.0</td>\n      <td>https://www.zillow.com/homedetails/9330-Valeri...</td>\n    </tr>\n    <tr>\n      <th>10</th>\n      <td>3484 Awatobi Ovi, Flagstaff, AZ 86005</td>\n      <td>485000.0</td>\n      <td>https://www.zillow.com/homedetails/3484-Awatob...</td>\n    </tr>\n    <tr>\n      <th>11</th>\n      <td>8470 Selma Ln, Flagstaff, AZ 86004</td>\n      <td>395000.0</td>\n      <td>https://www.zillow.com/homedetails/8470-Selma-...</td>\n    </tr>\n    <tr>\n      <th>12</th>\n      <td>69 Leupp Rd, Flagstaff, AZ 86004</td>\n      <td>289850.0</td>\n      <td>https://www.zillow.com/homedetails/69-Leupp-Rd...</td>\n    </tr>\n    <tr>\n      <th>13</th>\n      <td>6050 E Camden Rd, Flagstaff, AZ 86004</td>\n      <td>875000.0</td>\n      <td>https://www.zillow.com/homedetails/6050-E-Camd...</td>\n    </tr>\n    <tr>\n      <th>14</th>\n      <td>2606 N Main St, Flagstaff, AZ 86004</td>\n      <td>450000.0</td>\n      <td>https://www.zillow.com/homedetails/2606-N-Main...</td>\n    </tr>\n    <tr>\n      <th>15</th>\n      <td>5339 Brackin Ranch Rd, Flagstaff, AZ 86001</td>\n      <td>1775000.0</td>\n      <td>https://www.zillow.com/homedetails/5339-Bracki...</td>\n    </tr>\n    <tr>\n      <th>16</th>\n      <td>2024 W University Ave, Flagstaff, AZ 86001</td>\n      <td>680000.0</td>\n      <td>https://www.zillow.com/homedetails/2024-W-Univ...</td>\n    </tr>\n    <tr>\n      <th>17</th>\n      <td>4962 S Topaz Rd, Flagstaff, AZ 86005</td>\n      <td>1259000.0</td>\n      <td>https://www.zillow.com/homedetails/4962-S-Topa...</td>\n    </tr>\n    <tr>\n      <th>18</th>\n      <td>2199 N Fremont Blvd, Flagstaff, AZ 86001</td>\n      <td>1385000.0</td>\n      <td>https://www.zillow.com/homedetails/2199-N-Frem...</td>\n    </tr>\n    <tr>\n      <th>19</th>\n      <td>19 Fun Valley Rd, Flagstaff, AZ 86001</td>\n      <td>180000.0</td>\n      <td>https://www.zillow.com/homedetails/19-Fun-Vall...</td>\n    </tr>\n    <tr>\n      <th>20</th>\n      <td>1346 W University Heights Dr S, Flagstaff, AZ ...</td>\n      <td>620000.0</td>\n      <td>https://www.zillow.com/homedetails/1346-W-Univ...</td>\n    </tr>\n    <tr>\n      <th>21</th>\n      <td>7530 Koch Field Rd, Flagstaff, AZ 86004</td>\n      <td>985000.0</td>\n      <td>https://www.zillow.com/homedetails/7530-Koch-F...</td>\n    </tr>\n    <tr>\n      <th>22</th>\n      <td>4417 E Wintergreen Rd, Flagstaff, AZ 86004</td>\n      <td>250000.0</td>\n      <td>https://www.zillow.com/homedetails/4417-E-Wint...</td>\n    </tr>\n    <tr>\n      <th>23</th>\n      <td>7570 W Dreamview Trl, Flagstaff, AZ 86001</td>\n      <td>850000.0</td>\n      <td>https://www.zillow.com/homedetails/7570-W-Drea...</td>\n    </tr>\n    <tr>\n      <th>24</th>\n      <td>1755 W Sequoia Dr, Flagstaff, AZ 86001</td>\n      <td>516000.0</td>\n      <td>https://www.zillow.com/homedetails/1755-W-Sequ...</td>\n    </tr>\n    <tr>\n      <th>25</th>\n      <td>665 N Pine Cliff Dr, Flagstaff, AZ 86001</td>\n      <td>615000.0</td>\n      <td>https://www.zillow.com/homedetails/665-N-Pine-...</td>\n    </tr>\n    <tr>\n      <th>26</th>\n      <td>1401 N Royal Oaks Way, Flagstaff, AZ 86004</td>\n      <td>999900.0</td>\n      <td>https://www.zillow.com/homedetails/1401-N-Roya...</td>\n    </tr>\n  </tbody>\n</table>\n</div>"
     },
     "execution_count": 166,
     "metadata": {},
     "output_type": "execute_result"
    }
   ],
   "source": [
    "def get_info_from_zillow_pages(zillow_soup_pages):\n",
    "    df = pd.DataFrame()\n",
    "\n",
    "    address = []\n",
    "    price = []\n",
    "    link = []\n",
    "\n",
    "    for soup in zillow_soup_pages:\n",
    "        temp = soup.find_all('address')\n",
    "        adder_texts = [t.text for t in temp]\n",
    "        address = address.__add__(adder_texts)  # adds the address as string as single elements\n",
    "\n",
    "        temp = soup.find_all(\"span\", {\"data-test\":\"property-card-price\"})\n",
    "        price_texts = [t.text for t in temp]\n",
    "        price = price.__add__(price_texts)  # adds the price as string as single elements\n",
    "\n",
    "        temp = soup.find_all(\"a\", {\"data-test\":\"property-card-link\"})\n",
    "        href_link = []\n",
    "        last_temp = None\n",
    "        for t in temp:\n",
    "            if last_temp is None or last_temp != t.get(\"href\"):\n",
    "                if t.get(\"href\") is None:\n",
    "                    continue\n",
    "                last_temp = t.get(\"href\")\n",
    "                href_link.append(t.get(\"href\"))\n",
    "        link = link.__add__(href_link)  # adds the link to more house info\n",
    "\n",
    "\n",
    "\n",
    "\n",
    "    df['address'] = address\n",
    "    df['price'] = price\n",
    "    df['link'] = link\n",
    "\n",
    "    # numeric conversions\n",
    "    if df['price'].dtype != \"float\":\n",
    "        df['price'] = df['price'].str.replace('$', '')\n",
    "        df['price'] = df['price'].str.replace(',', '')\n",
    "        df['price'] = df['price'].astype('float')\n",
    "    # df['beds'] = pd.to_numeric(df['beds'], errors='coerce')\n",
    "    # df['baths'] = pd.to_numeric(df['baths'], errors='coerce')\n",
    "    # if df['sqft'].dtype != \"float\":\n",
    "    #     df['sqft'] = df['sqft'].str.replace(',', '')\n",
    "    #     df['sqft'] = pd.to_numeric(df['sqft'], errors='coerce')\n",
    "    return df\n",
    "\n",
    "df_z = get_info_from_zillow_pages(soups)\n",
    "df_z"
   ]
  },
  {
   "cell_type": "markdown",
   "metadata": {},
   "source": [
    "Now if you want to grab further data from the Zillow listings you can do so by grabbing the HTML for the specific listing and parsing that data. In the example below the Zillow house estimate is grabbed and added to the pandas DataFrame. Further data can be collect by adding to the code below as needed."
   ]
  },
  {
   "cell_type": "code",
   "execution_count": 167,
   "metadata": {},
   "outputs": [
    {
     "data": {
      "text/plain": "                                              address      price  \\\n0               9330 Valerie Way, Flagstaff, AZ 86004   595000.0   \n1               3484 Awatobi Ovi, Flagstaff, AZ 86005   485000.0   \n2                  8470 Selma Ln, Flagstaff, AZ 86004   395000.0   \n3                    69 Leupp Rd, Flagstaff, AZ 86004   289850.0   \n4               6050 E Camden Rd, Flagstaff, AZ 86004   875000.0   \n5                 2606 N Main St, Flagstaff, AZ 86004   450000.0   \n6          5339 Brackin Ranch Rd, Flagstaff, AZ 86001  1775000.0   \n7          2024 W University Ave, Flagstaff, AZ 86001   680000.0   \n8                4962 S Topaz Rd, Flagstaff, AZ 86005  1259000.0   \n9               9330 Valerie Way, Flagstaff, AZ 86004   595000.0   \n10              3484 Awatobi Ovi, Flagstaff, AZ 86005   485000.0   \n11                 8470 Selma Ln, Flagstaff, AZ 86004   395000.0   \n12                   69 Leupp Rd, Flagstaff, AZ 86004   289850.0   \n13              6050 E Camden Rd, Flagstaff, AZ 86004   875000.0   \n14                2606 N Main St, Flagstaff, AZ 86004   450000.0   \n15         5339 Brackin Ranch Rd, Flagstaff, AZ 86001  1775000.0   \n16         2024 W University Ave, Flagstaff, AZ 86001   680000.0   \n17               4962 S Topaz Rd, Flagstaff, AZ 86005  1259000.0   \n18           2199 N Fremont Blvd, Flagstaff, AZ 86001  1385000.0   \n19              19 Fun Valley Rd, Flagstaff, AZ 86001   180000.0   \n20  1346 W University Heights Dr S, Flagstaff, AZ ...   620000.0   \n21            7530 Koch Field Rd, Flagstaff, AZ 86004   985000.0   \n22         4417 E Wintergreen Rd, Flagstaff, AZ 86004   250000.0   \n23          7570 W Dreamview Trl, Flagstaff, AZ 86001   850000.0   \n24             1755 W Sequoia Dr, Flagstaff, AZ 86001   516000.0   \n25           665 N Pine Cliff Dr, Flagstaff, AZ 86001   615000.0   \n26         1401 N Royal Oaks Way, Flagstaff, AZ 86004   999900.0   \n\n                                                 link   Zestimate  beds  \\\n0   https://www.zillow.com/homedetails/9330-Valeri...    $571,291   3.0   \n1   https://www.zillow.com/homedetails/3484-Awatob...               3.0   \n2   https://www.zillow.com/homedetails/8470-Selma-...    $382,258   3.0   \n3   https://www.zillow.com/homedetails/69-Leupp-Rd...               3.0   \n4   https://www.zillow.com/homedetails/6050-E-Camd...               3.0   \n5   https://www.zillow.com/homedetails/2606-N-Main...    $450,001   5.0   \n6   https://www.zillow.com/homedetails/5339-Bracki...               3.0   \n7   https://www.zillow.com/homedetails/2024-W-Univ...    $666,800   3.0   \n8   https://www.zillow.com/homedetails/4962-S-Topa...  $1,259,003   4.0   \n9   https://www.zillow.com/homedetails/9330-Valeri...    $571,291   3.0   \n10  https://www.zillow.com/homedetails/3484-Awatob...               3.0   \n11  https://www.zillow.com/homedetails/8470-Selma-...    $382,258   3.0   \n12  https://www.zillow.com/homedetails/69-Leupp-Rd...               3.0   \n13  https://www.zillow.com/homedetails/6050-E-Camd...               3.0   \n14  https://www.zillow.com/homedetails/2606-N-Main...    $450,001   5.0   \n15  https://www.zillow.com/homedetails/5339-Bracki...               3.0   \n16  https://www.zillow.com/homedetails/2024-W-Univ...    $666,800   3.0   \n17  https://www.zillow.com/homedetails/4962-S-Topa...  $1,259,003   4.0   \n18  https://www.zillow.com/homedetails/2199-N-Frem...  $1,189,300   3.0   \n19  https://www.zillow.com/homedetails/19-Fun-Vall...               NaN   \n20  https://www.zillow.com/homedetails/1346-W-Univ...               3.0   \n21  https://www.zillow.com/homedetails/7530-Koch-F...    $953,225   4.0   \n22  https://www.zillow.com/homedetails/4417-E-Wint...    $246,400   3.0   \n23  https://www.zillow.com/homedetails/7570-W-Drea...    $825,362   3.0   \n24  https://www.zillow.com/homedetails/1755-W-Sequ...    $458,300   3.0   \n25  https://www.zillow.com/homedetails/665-N-Pine-...               3.0   \n26  https://www.zillow.com/homedetails/1401-N-Roya...               3.0   \n\n    baths    sqft  \n0     2.0  1798.0  \n1     2.0  1348.0  \n2     2.0  1456.0  \n3     1.0  1120.0  \n4     3.0  2460.0  \n5     3.0  1854.0  \n6     3.0  2793.0  \n7     2.0  1874.0  \n8     4.0  4199.0  \n9     2.0  1798.0  \n10    2.0  1348.0  \n11    2.0  1456.0  \n12    1.0  1120.0  \n13    3.0  2460.0  \n14    3.0  1854.0  \n15    3.0  2793.0  \n16    2.0  1874.0  \n17    4.0  4199.0  \n18    3.0  3094.0  \n19    NaN     NaN  \n20    3.0  1730.0  \n21    3.0  3332.0  \n22    2.0  1416.0  \n23    2.0  2880.0  \n24    3.0  1469.0  \n25    2.0  1594.0  \n26    3.0  3002.0  ",
      "text/html": "<div>\n<style scoped>\n    .dataframe tbody tr th:only-of-type {\n        vertical-align: middle;\n    }\n\n    .dataframe tbody tr th {\n        vertical-align: top;\n    }\n\n    .dataframe thead th {\n        text-align: right;\n    }\n</style>\n<table border=\"1\" class=\"dataframe\">\n  <thead>\n    <tr style=\"text-align: right;\">\n      <th></th>\n      <th>address</th>\n      <th>price</th>\n      <th>link</th>\n      <th>Zestimate</th>\n      <th>beds</th>\n      <th>baths</th>\n      <th>sqft</th>\n    </tr>\n  </thead>\n  <tbody>\n    <tr>\n      <th>0</th>\n      <td>9330 Valerie Way, Flagstaff, AZ 86004</td>\n      <td>595000.0</td>\n      <td>https://www.zillow.com/homedetails/9330-Valeri...</td>\n      <td>$571,291</td>\n      <td>3.0</td>\n      <td>2.0</td>\n      <td>1798.0</td>\n    </tr>\n    <tr>\n      <th>1</th>\n      <td>3484 Awatobi Ovi, Flagstaff, AZ 86005</td>\n      <td>485000.0</td>\n      <td>https://www.zillow.com/homedetails/3484-Awatob...</td>\n      <td></td>\n      <td>3.0</td>\n      <td>2.0</td>\n      <td>1348.0</td>\n    </tr>\n    <tr>\n      <th>2</th>\n      <td>8470 Selma Ln, Flagstaff, AZ 86004</td>\n      <td>395000.0</td>\n      <td>https://www.zillow.com/homedetails/8470-Selma-...</td>\n      <td>$382,258</td>\n      <td>3.0</td>\n      <td>2.0</td>\n      <td>1456.0</td>\n    </tr>\n    <tr>\n      <th>3</th>\n      <td>69 Leupp Rd, Flagstaff, AZ 86004</td>\n      <td>289850.0</td>\n      <td>https://www.zillow.com/homedetails/69-Leupp-Rd...</td>\n      <td></td>\n      <td>3.0</td>\n      <td>1.0</td>\n      <td>1120.0</td>\n    </tr>\n    <tr>\n      <th>4</th>\n      <td>6050 E Camden Rd, Flagstaff, AZ 86004</td>\n      <td>875000.0</td>\n      <td>https://www.zillow.com/homedetails/6050-E-Camd...</td>\n      <td></td>\n      <td>3.0</td>\n      <td>3.0</td>\n      <td>2460.0</td>\n    </tr>\n    <tr>\n      <th>5</th>\n      <td>2606 N Main St, Flagstaff, AZ 86004</td>\n      <td>450000.0</td>\n      <td>https://www.zillow.com/homedetails/2606-N-Main...</td>\n      <td>$450,001</td>\n      <td>5.0</td>\n      <td>3.0</td>\n      <td>1854.0</td>\n    </tr>\n    <tr>\n      <th>6</th>\n      <td>5339 Brackin Ranch Rd, Flagstaff, AZ 86001</td>\n      <td>1775000.0</td>\n      <td>https://www.zillow.com/homedetails/5339-Bracki...</td>\n      <td></td>\n      <td>3.0</td>\n      <td>3.0</td>\n      <td>2793.0</td>\n    </tr>\n    <tr>\n      <th>7</th>\n      <td>2024 W University Ave, Flagstaff, AZ 86001</td>\n      <td>680000.0</td>\n      <td>https://www.zillow.com/homedetails/2024-W-Univ...</td>\n      <td>$666,800</td>\n      <td>3.0</td>\n      <td>2.0</td>\n      <td>1874.0</td>\n    </tr>\n    <tr>\n      <th>8</th>\n      <td>4962 S Topaz Rd, Flagstaff, AZ 86005</td>\n      <td>1259000.0</td>\n      <td>https://www.zillow.com/homedetails/4962-S-Topa...</td>\n      <td>$1,259,003</td>\n      <td>4.0</td>\n      <td>4.0</td>\n      <td>4199.0</td>\n    </tr>\n    <tr>\n      <th>9</th>\n      <td>9330 Valerie Way, Flagstaff, AZ 86004</td>\n      <td>595000.0</td>\n      <td>https://www.zillow.com/homedetails/9330-Valeri...</td>\n      <td>$571,291</td>\n      <td>3.0</td>\n      <td>2.0</td>\n      <td>1798.0</td>\n    </tr>\n    <tr>\n      <th>10</th>\n      <td>3484 Awatobi Ovi, Flagstaff, AZ 86005</td>\n      <td>485000.0</td>\n      <td>https://www.zillow.com/homedetails/3484-Awatob...</td>\n      <td></td>\n      <td>3.0</td>\n      <td>2.0</td>\n      <td>1348.0</td>\n    </tr>\n    <tr>\n      <th>11</th>\n      <td>8470 Selma Ln, Flagstaff, AZ 86004</td>\n      <td>395000.0</td>\n      <td>https://www.zillow.com/homedetails/8470-Selma-...</td>\n      <td>$382,258</td>\n      <td>3.0</td>\n      <td>2.0</td>\n      <td>1456.0</td>\n    </tr>\n    <tr>\n      <th>12</th>\n      <td>69 Leupp Rd, Flagstaff, AZ 86004</td>\n      <td>289850.0</td>\n      <td>https://www.zillow.com/homedetails/69-Leupp-Rd...</td>\n      <td></td>\n      <td>3.0</td>\n      <td>1.0</td>\n      <td>1120.0</td>\n    </tr>\n    <tr>\n      <th>13</th>\n      <td>6050 E Camden Rd, Flagstaff, AZ 86004</td>\n      <td>875000.0</td>\n      <td>https://www.zillow.com/homedetails/6050-E-Camd...</td>\n      <td></td>\n      <td>3.0</td>\n      <td>3.0</td>\n      <td>2460.0</td>\n    </tr>\n    <tr>\n      <th>14</th>\n      <td>2606 N Main St, Flagstaff, AZ 86004</td>\n      <td>450000.0</td>\n      <td>https://www.zillow.com/homedetails/2606-N-Main...</td>\n      <td>$450,001</td>\n      <td>5.0</td>\n      <td>3.0</td>\n      <td>1854.0</td>\n    </tr>\n    <tr>\n      <th>15</th>\n      <td>5339 Brackin Ranch Rd, Flagstaff, AZ 86001</td>\n      <td>1775000.0</td>\n      <td>https://www.zillow.com/homedetails/5339-Bracki...</td>\n      <td></td>\n      <td>3.0</td>\n      <td>3.0</td>\n      <td>2793.0</td>\n    </tr>\n    <tr>\n      <th>16</th>\n      <td>2024 W University Ave, Flagstaff, AZ 86001</td>\n      <td>680000.0</td>\n      <td>https://www.zillow.com/homedetails/2024-W-Univ...</td>\n      <td>$666,800</td>\n      <td>3.0</td>\n      <td>2.0</td>\n      <td>1874.0</td>\n    </tr>\n    <tr>\n      <th>17</th>\n      <td>4962 S Topaz Rd, Flagstaff, AZ 86005</td>\n      <td>1259000.0</td>\n      <td>https://www.zillow.com/homedetails/4962-S-Topa...</td>\n      <td>$1,259,003</td>\n      <td>4.0</td>\n      <td>4.0</td>\n      <td>4199.0</td>\n    </tr>\n    <tr>\n      <th>18</th>\n      <td>2199 N Fremont Blvd, Flagstaff, AZ 86001</td>\n      <td>1385000.0</td>\n      <td>https://www.zillow.com/homedetails/2199-N-Frem...</td>\n      <td>$1,189,300</td>\n      <td>3.0</td>\n      <td>3.0</td>\n      <td>3094.0</td>\n    </tr>\n    <tr>\n      <th>19</th>\n      <td>19 Fun Valley Rd, Flagstaff, AZ 86001</td>\n      <td>180000.0</td>\n      <td>https://www.zillow.com/homedetails/19-Fun-Vall...</td>\n      <td></td>\n      <td>NaN</td>\n      <td>NaN</td>\n      <td>NaN</td>\n    </tr>\n    <tr>\n      <th>20</th>\n      <td>1346 W University Heights Dr S, Flagstaff, AZ ...</td>\n      <td>620000.0</td>\n      <td>https://www.zillow.com/homedetails/1346-W-Univ...</td>\n      <td></td>\n      <td>3.0</td>\n      <td>3.0</td>\n      <td>1730.0</td>\n    </tr>\n    <tr>\n      <th>21</th>\n      <td>7530 Koch Field Rd, Flagstaff, AZ 86004</td>\n      <td>985000.0</td>\n      <td>https://www.zillow.com/homedetails/7530-Koch-F...</td>\n      <td>$953,225</td>\n      <td>4.0</td>\n      <td>3.0</td>\n      <td>3332.0</td>\n    </tr>\n    <tr>\n      <th>22</th>\n      <td>4417 E Wintergreen Rd, Flagstaff, AZ 86004</td>\n      <td>250000.0</td>\n      <td>https://www.zillow.com/homedetails/4417-E-Wint...</td>\n      <td>$246,400</td>\n      <td>3.0</td>\n      <td>2.0</td>\n      <td>1416.0</td>\n    </tr>\n    <tr>\n      <th>23</th>\n      <td>7570 W Dreamview Trl, Flagstaff, AZ 86001</td>\n      <td>850000.0</td>\n      <td>https://www.zillow.com/homedetails/7570-W-Drea...</td>\n      <td>$825,362</td>\n      <td>3.0</td>\n      <td>2.0</td>\n      <td>2880.0</td>\n    </tr>\n    <tr>\n      <th>24</th>\n      <td>1755 W Sequoia Dr, Flagstaff, AZ 86001</td>\n      <td>516000.0</td>\n      <td>https://www.zillow.com/homedetails/1755-W-Sequ...</td>\n      <td>$458,300</td>\n      <td>3.0</td>\n      <td>3.0</td>\n      <td>1469.0</td>\n    </tr>\n    <tr>\n      <th>25</th>\n      <td>665 N Pine Cliff Dr, Flagstaff, AZ 86001</td>\n      <td>615000.0</td>\n      <td>https://www.zillow.com/homedetails/665-N-Pine-...</td>\n      <td></td>\n      <td>3.0</td>\n      <td>2.0</td>\n      <td>1594.0</td>\n    </tr>\n    <tr>\n      <th>26</th>\n      <td>1401 N Royal Oaks Way, Flagstaff, AZ 86004</td>\n      <td>999900.0</td>\n      <td>https://www.zillow.com/homedetails/1401-N-Roya...</td>\n      <td></td>\n      <td>3.0</td>\n      <td>3.0</td>\n      <td>3002.0</td>\n    </tr>\n  </tbody>\n</table>\n</div>"
     },
     "execution_count": 167,
     "metadata": {},
     "output_type": "execute_result"
    }
   ],
   "source": [
    "def grab_listing_data(df, req_headers):\n",
    "    \"\"\"\n",
    "    Currently only setup to grab the zillow estimate\n",
    "\n",
    "    :param df:\n",
    "    :return:\n",
    "    \"\"\"\n",
    "    z_estimate = []\n",
    "    beds = []\n",
    "    baths = []\n",
    "    sqft = []\n",
    "\n",
    "    for l in df[\"link\"]:\n",
    "        with requests.Session() as s:\n",
    "            found_estimate = False\n",
    "            r = s.get(l, headers=req_headers)\n",
    "            soup = BeautifulSoup(r.content, 'html.parser')\n",
    "            temp = soup.find(class_=\"summary-container\")\n",
    "            temp = temp.find_all(\"span\")\n",
    "            for item in temp:\n",
    "                if item.text.startswith(\"Zestimate\") and item.text.split(\" \")[-1] != 'HelpHelp':\n",
    "                    found_estimate= True\n",
    "                    z_estimate.append(item.text.split(\" \")[-1])\n",
    "            if found_estimate is False:\n",
    "                z_estimate.append(\"\")\n",
    "\n",
    "            temp = soup.find_all(\"span\", {\"data-testid\":\"bed-bath-item\"})\n",
    "            if \"Acres\" in temp[0].text:  # handles land lots\n",
    "                beds.append(\"\")\n",
    "                baths.append(\"\")\n",
    "                sqft.append(\"\")\n",
    "            else:\n",
    "                beds.append(temp[0].text.split(\" \")[0])\n",
    "                baths.append(temp[1].text.split(\" \")[0])\n",
    "                sqft.append(temp[2].text.split(\" \")[0])\n",
    "\n",
    "\n",
    "    df[\"Zestimate\"] = z_estimate\n",
    "    df[\"beds\"] = beds\n",
    "    df[\"baths\"] = baths\n",
    "    df[\"sqft\"] = sqft\n",
    "\n",
    "\n",
    "    df['beds'] = pd.to_numeric(df['beds'], errors='coerce')\n",
    "    df['baths'] = pd.to_numeric(df['baths'], errors='coerce')\n",
    "    if df['sqft'].dtype != \"float\":\n",
    "        df['sqft'] = df['sqft'].str.replace(',', '')\n",
    "        df['sqft'] = pd.to_numeric(df['sqft'], errors='coerce')\n",
    "    return df\n",
    "\n",
    "df_z_with_listings = grab_listing_data(df_z, req_headers)\n",
    "df_z_with_listings"
   ]
  },
  {
   "cell_type": "markdown",
   "metadata": {},
   "source": [
    "\n"
   ]
  },
  {
   "cell_type": "markdown",
   "metadata": {},
   "source": []
  }
 ],
 "metadata": {
  "kernelspec": {
   "display_name": "Python 3 (ipykernel)",
   "language": "python",
   "name": "python3"
  },
  "language_info": {
   "codemirror_mode": {
    "name": "ipython",
    "version": 3
   },
   "file_extension": ".py",
   "mimetype": "text/x-python",
   "name": "python",
   "nbconvert_exporter": "python",
   "pygments_lexer": "ipython3",
   "version": "3.10.4"
  }
 },
 "nbformat": 4,
 "nbformat_minor": 1
}
